{
 "cells": [
  {
   "cell_type": "markdown",
   "metadata": {},
   "source": [
    "Implemente a função `generate_password` que deve gerar uma senha aleatória.\n",
    "\n",
    "A função tem tres parâmetros:\n",
    "\n",
    "- `n_chars` especifica o tamanho da senha gerada\n",
    "- `use_numbers` especifica se números podem ser usados na senha. Por padrão, esse parâmetro tem valor True\n",
    "- `use_special_chars` especifica se caracteres especiais, por exemplo !#%&@?, pode ser usados na senha. Por padrão, esse parâmetro tem valor True\n",
    "\n",
    "Note que se `use_numbers` e `use_special_chars` tiverem valor False, a senha terá apenas letras maiúsculas ou minúsculas."
   ]
  },
  {
   "cell_type": "markdown",
   "metadata": {},
   "source": [
    "# Introdução à Ciência de Dados - UFPB\n",
    "Professor: Yuri Malheiros\n",
    "\n",
    "## Python - Random - Exercício"
   ]
  },
  {
   "cell_type": "code",
   "execution_count": 1,
   "metadata": {},
   "outputs": [],
   "source": [
    "import random\n",
    "import string \n",
    "\n",
    "\n",
    "def gerar_senhas(n_chars, use_numbers=True, use_special_chars=True):\n",
    "    chars = \"\"\n",
    "    if n_chars:\n",
    "        chars+= string.ascii_letters\n",
    "    if use_numbers:\n",
    "         chars += string.digits\n",
    "    if use_special_chars:\n",
    "         chars += string.punctuation\n",
    "    result = \"\"\n",
    "    for i in range (n_chars):\n",
    "        result += random.choice(chars)\n",
    "    return result\n",
    "    # ADICIONE O SEU CÓDIGO AQUI"
   ]
  },
  {
   "cell_type": "code",
   "execution_count": 2,
   "metadata": {},
   "outputs": [
    {
     "name": "stdout",
     "output_type": "stream",
     "text": [
      "O,P^4yv\\gU\n",
      "'^\\M'&xUaH\n",
      "nKUVWfwjAm\n"
     ]
    }
   ],
   "source": [
    "print(gerar_senhas(10))\n",
    "print(gerar_senhas(10, use_numbers=False))\n",
    "print(gerar_senhas(10, use_numbers=False, use_special_chars=False))"
   ]
  },
  {
   "cell_type": "code",
   "execution_count": null,
   "metadata": {},
   "outputs": [],
   "source": []
  },
  {
   "cell_type": "code",
   "execution_count": null,
   "metadata": {},
   "outputs": [],
   "source": []
  }
 ],
 "metadata": {
  "kernelspec": {
   "display_name": "Python 3",
   "language": "python",
   "name": "python3"
  },
  "language_info": {
   "codemirror_mode": {
    "name": "ipython",
    "version": 3
   },
   "file_extension": ".py",
   "mimetype": "text/x-python",
   "name": "python",
   "nbconvert_exporter": "python",
   "pygments_lexer": "ipython3",
   "version": "3.8.5"
  }
 },
 "nbformat": 4,
 "nbformat_minor": 4
}
